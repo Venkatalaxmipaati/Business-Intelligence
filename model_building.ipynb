{
 "cells": [
  {
   "cell_type": "code",
   "execution_count": 1,
   "id": "812c8fb9",
   "metadata": {},
   "outputs": [
    {
     "name": "stdout",
     "output_type": "stream",
     "text": [
      "   city_name  num_records\n",
      "0  Bengaluru           50\n",
      "1     London           50\n",
      "2   New York           50\n"
     ]
    }
   ],
   "source": [
    "import sqlite3, pandas as pd\n",
    "conn = sqlite3.connect(\"weather.db\")\n",
    "df_counts = pd.read_sql(\"\"\"\n",
    "    SELECT dl.city_name, COUNT(*) AS num_records\n",
    "    FROM fact_weather AS fw\n",
    "    JOIN dim_location AS dl\n",
    "      ON fw.location_id = dl.location_id\n",
    "    GROUP BY dl.city_name\n",
    "\"\"\", conn)\n",
    "conn.close()\n",
    "print(df_counts)\n"
   ]
  },
  {
   "cell_type": "code",
   "execution_count": 2,
   "id": "6fbb0c7e",
   "metadata": {},
   "outputs": [
    {
     "name": "stdout",
     "output_type": "stream",
     "text": [
      "✅ Inserted 72 rows into fact_weather (24 per city).\n"
     ]
    }
   ],
   "source": [
    "# ───────────────────────────────────────────────────────────────────────────────\n",
    "# Back‐date Helper: Insert 24 hourly snapshots per city\n",
    "# (run this in a Notebook cell, e.g. in App.ipynb or a new cell below your ETL)\n",
    "# ───────────────────────────────────────────────────────────────────────────────\n",
    "import pandas as pd\n",
    "import requests\n",
    "import time\n",
    "import sqlite3\n",
    "from datetime import datetime, timedelta\n",
    "from dotenv import load_dotenv\n",
    "import os\n",
    "\n",
    "# 1) Load API key\n",
    "load_dotenv()\n",
    "API_KEY = os.getenv(\"OWM_API_KEY\")\n",
    "\n",
    "# 2) Function to fetch one “current” record per city\n",
    "OWM_URL = \"https://api.openweathermap.org/data/2.5/weather\"\n",
    "\n",
    "def fetch_one_record(lat, lon, location_id):\n",
    "    \"\"\"\n",
    "    Calls /data/2.5/weather once and returns a flattened dict with UNIX ts.\n",
    "    \"\"\"\n",
    "    params = {\n",
    "        \"lat\": lat,\n",
    "        \"lon\": lon,\n",
    "        \"units\": \"metric\",\n",
    "        \"appid\": API_KEY\n",
    "    }\n",
    "    r = requests.get(OWM_URL, params=params, timeout=10)\n",
    "    r.raise_for_status()\n",
    "    data = r.json()\n",
    "    return {\n",
    "        \"location_id\":     location_id,\n",
    "        \"obs_ts\":          data[\"dt\"],           # UNIX timestamp\n",
    "        \"temp_c\":          data[\"main\"][\"temp\"],\n",
    "        \"feels_like_c\":    data[\"main\"][\"feels_like\"],\n",
    "        \"humidity_pct\":    data[\"main\"][\"humidity\"],\n",
    "        \"pressure_hpa\":    data[\"main\"][\"pressure\"],\n",
    "        \"wind_speed_ms\":   data[\"wind\"][\"speed\"],\n",
    "        \"clouds_pct\":      data[\"clouds\"][\"all\"],\n",
    "        \"weather_main\":    data[\"weather\"][0][\"main\"],\n",
    "        \"weather_desc\":    data[\"weather\"][0][\"description\"],\n",
    "    }\n",
    "\n",
    "# 3) Load all cities from dim_location\n",
    "conn = sqlite3.connect(\"weather.db\")\n",
    "df_locs = pd.read_sql(\"SELECT location_id, lat, lon FROM dim_location\", conn)\n",
    "\n",
    "all_rows = []\n",
    "for row in df_locs.itertuples(index=False):\n",
    "    # Fetch the “base” current‐weather record for this city\n",
    "    base = fetch_one_record(row.lat, row.lon, row.location_id)\n",
    "    # Generate 24 snapshots: subtract 0..23 hours (in seconds)\n",
    "    for h in range(24):\n",
    "        snapshot = base.copy()\n",
    "        snapshot[\"obs_ts\"] = base[\"obs_ts\"] - (h * 3600)\n",
    "        all_rows.append(snapshot)\n",
    "    # To respect rate limits, you might want a short sleep\n",
    "    time.sleep(1)\n",
    "\n",
    "conn.close()\n",
    "\n",
    "# 4) Convert the list of dicts to a DataFrame\n",
    "df_insert = pd.DataFrame(all_rows)\n",
    "\n",
    "# Convert the back‐dated UNIX timestamp to UTC datetime\n",
    "df_insert[\"obs_ts\"] = pd.to_datetime(df_insert[\"obs_ts\"], unit=\"s\", utc=True)\n",
    "\n",
    "# Select only the columns we need, in the correct order\n",
    "df_to_write = df_insert[[\n",
    "    \"location_id\", \"obs_ts\", \"temp_c\", \"feels_like_c\",\n",
    "    \"humidity_pct\", \"pressure_hpa\", \"wind_speed_ms\",\n",
    "    \"weather_main\", \"weather_desc\", \"clouds_pct\"\n",
    "]]\n",
    "\n",
    "# 5) Insert all rows at once into fact_weather\n",
    "conn = sqlite3.connect(\"weather.db\")\n",
    "df_to_write.to_sql(\"fact_weather\", conn, if_exists=\"append\", index=False)\n",
    "conn.close()\n",
    "\n",
    "print(f\"✅ Inserted {len(df_to_write)} rows into fact_weather (24 per city).\")\n"
   ]
  },
  {
   "cell_type": "code",
   "execution_count": 3,
   "id": "33727d9b",
   "metadata": {},
   "outputs": [
    {
     "name": "stdout",
     "output_type": "stream",
     "text": [
      "   city_name  num_records\n",
      "0  Bengaluru           74\n",
      "1     London           74\n",
      "2   New York           74\n"
     ]
    }
   ],
   "source": [
    "import sqlite3, pandas as pd\n",
    "\n",
    "conn = sqlite3.connect(\"weather.db\")\n",
    "df_counts = pd.read_sql(\"\"\"\n",
    "    SELECT dl.city_name, COUNT(*) AS num_records\n",
    "    FROM fact_weather AS fw\n",
    "    JOIN dim_location AS dl \n",
    "      ON fw.location_id = dl.location_id\n",
    "    GROUP BY dl.city_name\n",
    "\"\"\", conn)\n",
    "conn.close()\n",
    "print(df_counts)\n"
   ]
  },
  {
   "cell_type": "code",
   "execution_count": 4,
   "id": "9b74372c",
   "metadata": {},
   "outputs": [
    {
     "name": "stdout",
     "output_type": "stream",
     "text": [
      "Total rows for modeling: 222\n",
      "Train rows: 177, Test rows: 45\n",
      "Linear Regression MSE: 0.23\n",
      "Linear Regression R²:  0.93\n",
      "\n",
      "Learned Coefficients:\n",
      "        feature  coefficient\n",
      "0        temp_c    -5.828186\n",
      "1  feels_like_c     4.508419\n"
     ]
    },
    {
     "data": {
      "image/png": "[encoded data removed]",
      "text/plain": [
       "<Figure size 600x600 with 1 Axes>"
      ]
     },
     "metadata": {},
     "output_type": "display_data"
    }
   ],
   "source": [
    "import pandas as pd\n",
    "import sqlite3\n",
    "from sklearn.model_selection import train_test_split\n",
    "from sklearn.linear_model import LinearRegression\n",
    "from sklearn.metrics import mean_squared_error, r2_score\n",
    "import matplotlib.pyplot as plt\n",
    "\n",
    "# 1) Load the data (including city_name if you want to inspect)\n",
    "conn = sqlite3.connect(\"weather.db\")\n",
    "df = pd.read_sql(\"\"\"\n",
    "    SELECT temp_c, feels_like_c, humidity_pct\n",
    "    FROM fact_weather\n",
    "\"\"\", conn)\n",
    "conn.close()\n",
    "\n",
    "# 2) Drop missing values\n",
    "df = df.dropna(subset=['temp_c', 'feels_like_c', 'humidity_pct'])\n",
    "\n",
    "print(f\"Total rows for modeling: {len(df)}\")  # should be ~72 now\n",
    "\n",
    "# 3) Define features and target\n",
    "X = df[['temp_c', 'feels_like_c']]\n",
    "y = df['humidity_pct']\n",
    "\n",
    "# 4) Train/test split (20% test)\n",
    "X_train, X_test, y_train, y_test = train_test_split(\n",
    "    X, y, test_size=0.2, random_state=42\n",
    ")\n",
    "\n",
    "print(f\"Train rows: {len(X_train)}, Test rows: {len(X_test)}\")\n",
    "\n",
    "# 5) Train Linear Regression\n",
    "model = LinearRegression()\n",
    "model.fit(X_train, y_train)\n",
    "\n",
    "# 6) Predict and evaluate\n",
    "y_pred = model.predict(X_test)\n",
    "mse = mean_squared_error(y_test, y_pred)\n",
    "r2  = r2_score(y_test, y_pred)\n",
    "\n",
    "print(f\"Linear Regression MSE: {mse:.2f}\")\n",
    "print(f\"Linear Regression R²:  {r2:.2f}\")\n",
    "\n",
    "# 7) Coefficients\n",
    "coef_df = pd.DataFrame({\n",
    "    'feature': X.columns,\n",
    "    'coefficient': model.coef_\n",
    "})\n",
    "print(\"\\nLearned Coefficients:\")\n",
    "print(coef_df)\n",
    "\n",
    "# 8) Optional: Plot True vs. Predicted\n",
    "plt.figure(figsize=(6, 6))\n",
    "plt.scatter(y_test, y_pred, alpha=0.7, edgecolor='k')\n",
    "plt.plot([y_test.min(), y_test.max()],\n",
    "         [y_test.min(), y_test.max()],\n",
    "         'r--', linewidth=2)\n",
    "plt.title(\"True vs. Predicted Humidity\")\n",
    "plt.xlabel(\"True Humidity (%)\")\n",
    "plt.ylabel(\"Predicted Humidity (%)\")\n",
    "plt.grid(alpha=0.3)\n",
    "plt.tight_layout()\n",
    "plt.show()\n"
   ]
  }
 ],
 "metadata": {
  "kernelspec": {
   "display_name": "Python 3",
   "language": "python",
   "name": "python3"
  },
  "language_info": {
   "codemirror_mode": {
    "name": "ipython",
    "version": 3
   },
   "file_extension": ".py",
   "mimetype": "text/x-python",
   "name": "python",
   "nbconvert_exporter": "python",
   "pygments_lexer": "ipython3",
   "version": "3.8.9"
  }
 },
 "nbformat": 4,
 "nbformat_minor": 5
}
